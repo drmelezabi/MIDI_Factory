{
 "cells": [
  {
   "cell_type": "markdown",
   "metadata": {},
   "source": [
    "## **MIDI Factory**"
   ]
  },
  {
   "cell_type": "markdown",
   "metadata": {},
   "source": [
    "#### Import Libraries"
   ]
  },
  {
   "cell_type": "code",
   "execution_count": 292,
   "metadata": {},
   "outputs": [],
   "source": [
    "import pandas as pd\n",
    "import xlwings as xw\n",
    "import math\n",
    "\n",
    "from miditoolkit.midi import parser as mid_parser  \n",
    "from miditoolkit.midi import containers as ct\n",
    "from miditoolkit import MidiFile"
   ]
  },
  {
   "cell_type": "markdown",
   "metadata": {},
   "source": [
    "### load midi file"
   ]
  },
  {
   "cell_type": "code",
   "execution_count": 293,
   "metadata": {},
   "outputs": [],
   "source": [
    "path_midi = 'raw.mid'"
   ]
  },
  {
   "cell_type": "markdown",
   "metadata": {},
   "source": [
    "### Constant"
   ]
  },
  {
   "cell_type": "code",
   "execution_count": 294,
   "metadata": {},
   "outputs": [
    {
     "name": "stdout",
     "output_type": "stream",
     "text": [
      "✥ ticks per beat: 10\n",
      "✥ bar duration: 40\n",
      "✥ tempo: 200 BPM\n"
     ]
    }
   ],
   "source": [
    "ticks_per_beat = round(midi_obj.ticks_per_beat / 10)\n",
    "time_signature = midi_obj.time_signature_changes[0]\n",
    "numerator =  time_signature.numerator\n",
    "_denominator =  time_signature.denominator\n",
    "tempo = round(midi_obj.tempo_changes[0].tempo)\n",
    "restNote = None\n",
    "\n",
    "rhythms = {\n",
    "    round(ticks_per_beat * 4): \"w\", \n",
    "    round(ticks_per_beat * 3): \"hd\",\n",
    "    round(ticks_per_beat * 4 / 3): \"ht\",\n",
    "    round(ticks_per_beat * 2): \"h\",\n",
    "    round(ticks_per_beat * 1.5): \"qd\",\n",
    "    round(ticks_per_beat * 2 / 3): \"qt\",\n",
    "    round(ticks_per_beat * 1 + ticks_per_beat * 0.25): \"q^s\",\n",
    "    ticks_per_beat: \"q\",\n",
    "    round(ticks_per_beat * 1 / 3):\"et\", \n",
    "    round(ticks_per_beat * 3 / 4): \"ed\",\n",
    "    round(ticks_per_beat / 2): \"e\",\n",
    "    round(ticks_per_beat / 4 ): \"s\",\n",
    "    round(ticks_per_beat / 6): \"st\"\n",
    "}\n",
    "\n",
    "theme_start = \"theme_start\"\n",
    "phrase_start = \"phrase_start\"\n",
    "\n",
    "bar_duration = numerator * ticks_per_beat\n",
    "\n",
    "print('✥ ticks per beat:', ticks_per_beat)\n",
    "print('✥ bar duration:', bar_duration)\n",
    "print('✥ tempo:', tempo, \"BPM\")"
   ]
  },
  {
   "cell_type": "markdown",
   "metadata": {},
   "source": [
    "### Define RHYTHMS"
   ]
  },
  {
   "cell_type": "code",
   "execution_count": 295,
   "metadata": {},
   "outputs": [],
   "source": [
    "def rhythms_define(duration: int):\n",
    "    return duration\n",
    "    for i in range(-2, 3):\n",
    "        rhythm = rhythms.get(duration + i)\n",
    "        if rhythm:\n",
    "            return rhythm"
   ]
  },
  {
   "cell_type": "markdown",
   "metadata": {},
   "source": [
    "### Get Markers"
   ]
  },
  {
   "cell_type": "code",
   "execution_count": 296,
   "metadata": {},
   "outputs": [],
   "source": [
    "def markers_set(listOfMarkers):\n",
    "    markers_set = set()\n",
    "    for marker in listOfMarkers:\n",
    "        marker_titles = marker.text.split(',')\n",
    "        for m in marker_titles:\n",
    "            markers_set.add(m)\n",
    "    return markers_set\n",
    "\n",
    "def markers_dict(listOfMarkers):\n",
    "    markers = {}\n",
    "    for marker in listOfMarkers:\n",
    "        marker_titles = marker.text.split(',')\n",
    "        markers[round(marker.time / 10)] = marker_titles\n",
    "    return markers\n"
   ]
  },
  {
   "cell_type": "markdown",
   "metadata": {},
   "source": [
    "### Get Pitch bend"
   ]
  },
  {
   "cell_type": "code",
   "execution_count": 297,
   "metadata": {},
   "outputs": [],
   "source": [
    "def get_quarter_note(midi_obj: MidiFile):\n",
    "    pitch_bends_raw = midi_obj.instruments[0].pitch_bends\n",
    "\n",
    "    pitch_bends_filtered = list(filter(lambda item: item.pitch != 0, pitch_bends_raw))\n",
    "\n",
    "    pitch_bends = {}\n",
    "\n",
    "    for pitch_bend in pitch_bends_filtered:\n",
    "        pitch_bends[round(pitch_bend.time / 10)] = pitch_bend.pitch\n",
    "        \n",
    "    return pitch_bends"
   ]
  },
  {
   "cell_type": "markdown",
   "metadata": {},
   "source": [
    "### Create DataFrame with empty Series"
   ]
  },
  {
   "cell_type": "code",
   "execution_count": 298,
   "metadata": {},
   "outputs": [],
   "source": [
    "def midi_df(markers_set: set):\n",
    "    # Create empty Series\n",
    "    empty_series = pd.Series()\n",
    "    \n",
    "    # DataFrame basics\n",
    "    midi_df = pd.DataFrame({\n",
    "        'note': empty_series,\n",
    "        'interval': empty_series,\n",
    "        'note_start_time': empty_series,\n",
    "        'duration': empty_series,\n",
    "        'slur': empty_series,\n",
    "        'velocity': empty_series,\n",
    "    })\n",
    "    \n",
    "    # add markers columns\n",
    "    for column in markers_set:\n",
    "        midi_df[column] = empty_series\n",
    "        \n",
    "    return midi_df"
   ]
  },
  {
   "cell_type": "markdown",
   "metadata": {},
   "source": [
    "### Create New Row"
   ]
  },
  {
   "cell_type": "code",
   "execution_count": 299,
   "metadata": {},
   "outputs": [],
   "source": [
    "def new_entry(start_time: None | int, duration: None | int, Def_column, markers, note= restNote, velocity= None, slur: int= 0, last_note= None, last_note_end_time= 0 ):\n",
    "    row = {key: 0 for key in Def_column}\n",
    "    row['note'] = note if(note and velocity) else restNote\n",
    "    row['note_start_time'] = start_time\n",
    "    row['duration'] = rhythms_define(duration)\n",
    "    row['velocity'] = velocity\n",
    "    row['interval'] = None\n",
    "            \n",
    "    if(markers):\n",
    "        for marker in markers:\n",
    "            row[marker] = 1\n",
    "            \n",
    "    if(slur):\n",
    "        row['slur'] = slur\n",
    "        \n",
    "    \n",
    "    if(note != None  and velocity):\n",
    "        if(row.get(theme_start) == 0 and row.get(phrase_start) == 0):\n",
    "            last_note_int = last_note or 0\n",
    "            current_note = row['note'] or 0\n",
    "            interval = current_note - last_note_int\n",
    "            row['interval'] =  interval if(start_time - last_note_end_time < bar_duration) else None\n",
    "        else:\n",
    "            row['interval'] = None\n",
    "            \n",
    "    return row"
   ]
  },
  {
   "cell_type": "markdown",
   "metadata": {},
   "source": [
    "### Load your MIDI file"
   ]
  },
  {
   "cell_type": "code",
   "execution_count": 300,
   "metadata": {},
   "outputs": [],
   "source": [
    "def midi_to_dataFrame(midi_obj: MidiFile ):\n",
    "    notes = midi_obj.instruments[0].notes\n",
    "    quarter_tone_list = get_quarter_note(midi_obj)\n",
    "    midi_dataFrame= midi_df(markers_set(midi_obj.markers))\n",
    "    markers = markers_dict(midi_obj.markers)\n",
    "    columns = midi_dataFrame.columns\n",
    "    \n",
    "    last_note: None | int  = None\n",
    "    last_note_end_time = 0\n",
    "    quarter_tone = False\n",
    "\n",
    "    for note in notes:\n",
    "        pitch = note.pitch\n",
    "        start_time = round(note.start / 10)\n",
    "        end_time = round(note.end / 10)\n",
    "        pitch_bend = quarter_tone_list.get(start_time)\n",
    "        quarter_tone = pitch_bend / 341 * 0.5 if(pitch_bend) else 0\n",
    "        rest_exist = start_time - last_note_end_time > 0\n",
    "        \n",
    "        # handle rest if exist\n",
    "        if (rest_exist):\n",
    "            rest_start_time = last_note_end_time\n",
    "            next_note_start_time = start_time\n",
    "            \n",
    "            rest_starts_bar = math.ceil((rest_start_time + 1) / bar_duration)\n",
    "            rest_ends_bar = math.ceil((next_note_start_time - 1) / bar_duration)\n",
    "\n",
    "            existed_rest_bars = rest_ends_bar - rest_starts_bar\n",
    "            \n",
    "            \n",
    "            for i in range(existed_rest_bars):\n",
    "                bar_ends = (rest_starts_bar + i) * bar_duration\n",
    "                \n",
    "                # Add a new rest event to the DataFrame  \n",
    "                midi_dataFrame.loc[len(midi_dataFrame)] = new_entry(\n",
    "                    start_time= rest_start_time,\n",
    "                    duration= bar_ends - rest_start_time,\n",
    "                    Def_column= columns,\n",
    "                    markers= markers.get(rest_start_time)\n",
    "                )\n",
    "                \n",
    "                # update new rest start point\n",
    "                rest_start_time = bar_ends\n",
    "                \n",
    "            # existed_rest_less_than_bar \n",
    "            if(next_note_start_time - rest_start_time):\n",
    "                # Add a new rest event to the DataFrame\n",
    "                midi_dataFrame.loc[len(midi_dataFrame)] = new_entry(\n",
    "                    start_time= rest_start_time,\n",
    "                    duration= start_time - rest_start_time,\n",
    "                    Def_column= columns,\n",
    "                    markers= markers.get(rest_start_time)\n",
    "                )\n",
    "\n",
    "        \n",
    "        note_starts_bar = math.ceil((start_time + 1) / bar_duration)\n",
    "        note_ends_bar = math.ceil((end_time - 1) / bar_duration)\n",
    "        nested_slur_note = False\n",
    "\n",
    "        existed_slur_note = note_ends_bar - note_starts_bar\n",
    "        ## handle slur notes\n",
    "        if(existed_slur_note):\n",
    "            for i in range(existed_slur_note):\n",
    "                slur = 0\n",
    "                if(nested_slur_note):\n",
    "                    slur = 1\n",
    "                else:\n",
    "                    nested_slur_note = not nested_slur_note\n",
    "                \n",
    "                bar_ends = (note_starts_bar + i) * bar_duration\n",
    "                current_note = pitch + quarter_tone\n",
    "                \n",
    "                # Add a new note event to the DataFrame  \n",
    "                midi_dataFrame.loc[len(midi_dataFrame)] = new_entry(\n",
    "                    note= current_note,\n",
    "                    start_time= start_time,\n",
    "                    duration= bar_ends - start_time,\n",
    "                    velocity= note.velocity,\n",
    "                    slur= slur,\n",
    "                    Def_column= columns,\n",
    "                    last_note= last_note,\n",
    "                    last_note_end_time= last_note_end_time,\n",
    "                    markers= markers.get(start_time)\n",
    "                )\n",
    "                \n",
    "                # update new note start point\n",
    "                last_note_end_time = bar_ends\n",
    "                start_time = bar_ends\n",
    "                last_note = current_note\n",
    "                \n",
    "            bar_ends = (note_starts_bar + i) * bar_duration\n",
    "            current_note = pitch + quarter_tone\n",
    "            \n",
    "            ## there is nested slur note and it duration is less than bar duration\n",
    "            if(end_time % bar_duration):\n",
    "                # Add a new note event to the DataFrame  \n",
    "                midi_dataFrame.loc[len(midi_dataFrame)] = new_entry(\n",
    "                    note= current_note,\n",
    "                    start_time= start_time,\n",
    "                    duration= end_time - start_time,\n",
    "                    velocity= note.velocity,\n",
    "                    slur= 1,\n",
    "                    Def_column= columns,\n",
    "                    last_note= last_note,\n",
    "                    last_note_end_time= last_note_end_time,\n",
    "                    markers= markers.get(start_time)\n",
    "                )\n",
    "            # update new note start point\n",
    "            last_note_end_time = end_time\n",
    "            last_note = current_note\n",
    "        ## handle none-slur notes\n",
    "        else:\n",
    "            bar_ends = (note_starts_bar + i) * bar_duration\n",
    "            current_note = pitch + quarter_tone\n",
    "            \n",
    "            # Add a new note event to the DataFrame\n",
    "            midi_dataFrame.loc[len(midi_dataFrame)] = new_entry(\n",
    "                note= current_note,\n",
    "                start_time= start_time,\n",
    "                duration= end_time - start_time,\n",
    "                velocity= note.velocity,\n",
    "                Def_column= columns,\n",
    "                last_note= last_note,\n",
    "                last_note_end_time= last_note_end_time,\n",
    "                markers= markers.get(start_time)\n",
    "            )\n",
    "            \n",
    "            # update new note start point\n",
    "            last_note_end_time = end_time\n",
    "            last_note = current_note\n",
    "    \n",
    "    return midi_dataFrame"
   ]
  },
  {
   "cell_type": "code",
   "execution_count": 301,
   "metadata": {},
   "outputs": [],
   "source": [
    "\n",
    "dataFrame = midi_to_dataFrame(\n",
    "    midi_obj= mid_parser.MidiFile(f'./midi/{path_midi}')\n",
    ")"
   ]
  },
  {
   "cell_type": "markdown",
   "metadata": {},
   "source": [
    "### Update Excel File"
   ]
  },
  {
   "cell_type": "code",
   "execution_count": 302,
   "metadata": {},
   "outputs": [
    {
     "data": {
      "text/plain": [
       "True"
      ]
     },
     "execution_count": 302,
     "metadata": {},
     "output_type": "execute_result"
    }
   ],
   "source": [
    "# Connect to the workbook\n",
    "workbook = xw.Book('test.xlsx')\n",
    "\n",
    "# Select the worksheet\n",
    "worksheet = workbook.sheets[path_midi.split('.')[0]]\n",
    "\n",
    "# Delete the existing table (if it exists)\n",
    "if worksheet.tables:\n",
    "    worksheet.range(worksheet.tables[0].range.address).api.Delete()\n",
    "\n",
    "# Add a new table to the worksheet\n",
    "table = worksheet.tables.add(source=worksheet.range('A1'), name='MyTable')\n",
    "\n",
    "# Update the table with the new data\n",
    "table.update(dataFrame)\n",
    "\n",
    "# Show the updated range of cells in a new window\n",
    "table.range.api.Select()"
   ]
  }
 ],
 "metadata": {
  "kernelspec": {
   "display_name": "Python 3",
   "language": "python",
   "name": "python3"
  },
  "language_info": {
   "codemirror_mode": {
    "name": "ipython",
    "version": 3
   },
   "file_extension": ".py",
   "mimetype": "text/x-python",
   "name": "python",
   "nbconvert_exporter": "python",
   "pygments_lexer": "ipython3",
   "version": "3.12.1"
  }
 },
 "nbformat": 4,
 "nbformat_minor": 2
}
