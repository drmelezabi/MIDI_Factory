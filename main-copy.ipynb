{
 "cells": [
  {
   "cell_type": "markdown",
   "metadata": {},
   "source": [
    "## **MIDI Factory**"
   ]
  },
  {
   "cell_type": "markdown",
   "metadata": {},
   "source": [
    "#### Import Libraries"
   ]
  },
  {
   "cell_type": "code",
   "execution_count": 11,
   "metadata": {},
   "outputs": [],
   "source": [
    "import os\n",
    "import xlwings as xw\n",
    "\n",
    "from midiArabia import MidiArabia\n",
    "\n",
    "import pandas as pd"
   ]
  },
  {
   "cell_type": "markdown",
   "metadata": {},
   "source": [
    "### Constant "
   ]
  },
  {
   "cell_type": "code",
   "execution_count": 12,
   "metadata": {},
   "outputs": [],
   "source": [
    "path_midi = \"./midi\""
   ]
  },
  {
   "cell_type": "markdown",
   "metadata": {},
   "source": [
    "### load midi file"
   ]
  },
  {
   "cell_type": "code",
   "execution_count": 13,
   "metadata": {},
   "outputs": [],
   "source": [
    "file_name_list = []\n",
    "\n",
    "def load_songs_in_mid() -> list[MidiArabia]:\n",
    "    songs = []\n",
    "\n",
    "    for files in os.walk(path_midi):\n",
    "        for file in files:\n",
    "            if file[-3:] == \"mid\":\n",
    "                print()\n",
    "                song = MidiArabia( f'./midi/{file}' )\n",
    "                songs.append(song)\n",
    "                file_name_list.append(file.split('.')[0])\n",
    "    return songs"
   ]
  },
  {
   "cell_type": "code",
   "execution_count": 14,
   "metadata": {},
   "outputs": [],
   "source": [
    "songs = load_songs_in_mid()"
   ]
  },
  {
   "cell_type": "code",
   "execution_count": null,
   "metadata": {},
   "outputs": [],
   "source": []
  },
  {
   "cell_type": "code",
   "execution_count": 15,
   "metadata": {},
   "outputs": [],
   "source": [
    "for i in range(len(songs)):\n",
    "    songs[i].midi_to_dataFrame().to_csv(f'./csv/{file_name_list[i]}.csv')"
   ]
  },
  {
   "cell_type": "markdown",
   "metadata": {},
   "source": [
    "### Update Excel File"
   ]
  },
  {
   "cell_type": "code",
   "execution_count": 16,
   "metadata": {},
   "outputs": [],
   "source": [
    "# workbook = xw.Book('test.xlsx')\n",
    "\n",
    "# for i in range(len(songs)):\n",
    "#     sheet_name = file_name_list[i]\n",
    "    \n",
    "#     if sheet_name in workbook.sheet_names:\n",
    "#         worksheet = workbook.sheets[sheet_name]\n",
    "#         if worksheet.tables:\n",
    "#             worksheet.range(worksheet.tables[0].range.address).api.Delete()\n",
    "#         dataFrame = songs[i].midi_to_dataFrame()\n",
    "#         table = worksheet.tables.add(source=worksheet.range('A1'), name='MyTable')\n",
    "#         table.update(dataFrame)\n",
    "#     else:\n",
    "#         workbook.sheets.add(name=sheet_name)\n",
    "#         dataFrame = songs[i].midi_to_dataFrame()\n",
    "#         worksheet.range('A1').value = dataFrame\n"
   ]
  }
 ],
 "metadata": {
  "kernelspec": {
   "display_name": "Python 3",
   "language": "python",
   "name": "python3"
  },
  "language_info": {
   "codemirror_mode": {
    "name": "ipython",
    "version": 3
   },
   "file_extension": ".py",
   "mimetype": "text/x-python",
   "name": "python",
   "nbconvert_exporter": "python",
   "pygments_lexer": "ipython3",
   "version": "3.12.1"
  }
 },
 "nbformat": 4,
 "nbformat_minor": 2
}
