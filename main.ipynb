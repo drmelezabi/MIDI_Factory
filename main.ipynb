{
 "cells": [
  {
   "cell_type": "markdown",
   "metadata": {},
   "source": [
    "## **MIDI Factory**"
   ]
  },
  {
   "cell_type": "markdown",
   "metadata": {},
   "source": [
    "#### Import Libraries"
   ]
  },
  {
   "cell_type": "code",
   "execution_count": 112,
   "metadata": {},
   "outputs": [],
   "source": [
    "import mido\n",
    "import pandas as pd\n",
    "import xlwings as xw\n",
    "\n"
   ]
  },
  {
   "cell_type": "markdown",
   "metadata": {},
   "source": [
    "#### Create empty Series"
   ]
  },
  {
   "cell_type": "code",
   "execution_count": 113,
   "metadata": {},
   "outputs": [],
   "source": [
    "empty_series = pd.Series()"
   ]
  },
  {
   "cell_type": "markdown",
   "metadata": {},
   "source": [
    "### Create DataFrame with empty Series"
   ]
  },
  {
   "cell_type": "code",
   "execution_count": 114,
   "metadata": {},
   "outputs": [],
   "source": [
    "midi_df = pd.DataFrame({\n",
    "    'note': empty_series,\n",
    "    'note_start_time': empty_series,\n",
    "    'duration': empty_series,\n",
    "    'Velocity': empty_series,\n",
    "    'heard_interval': empty_series,\n",
    "    'theme_begin':empty_series,\n",
    "    'theme_end':empty_series,\n",
    "    \n",
    "})"
   ]
  },
  {
   "cell_type": "markdown",
   "metadata": {},
   "source": [
    "### Load your MIDI file"
   ]
  },
  {
   "cell_type": "code",
   "execution_count": 115,
   "metadata": {},
   "outputs": [],
   "source": [
    "mid = mido.MidiFile('2000.mid')"
   ]
  },
  {
   "cell_type": "code",
   "execution_count": 123,
   "metadata": {},
   "outputs": [
    {
     "data": {
      "text/plain": [
       "True"
      ]
     },
     "execution_count": 123,
     "metadata": {},
     "output_type": "execute_result"
    }
   ],
   "source": [
    "# Initialize a dictionary to store note start times and velocities\n",
    "note_start_times = {}\n",
    "note_velocities = {}\n",
    "techniques = {}\n",
    "bar_duration = 0\n",
    "\n",
    "for i, track in enumerate(mid.tracks):\n",
    "    \n",
    "    total_time = 0  # Initialize total time for each track\n",
    "    end_time = 0    # Initialize end time for rests\n",
    "    last_note_end_time = 0\n",
    "    quarter_tone = False\n",
    "    \n",
    "    for message in track:\n",
    "        total_time += message.time  # Update total time for each message\n",
    "        \n",
    "        if message.type == \"marker\":\n",
    "            marker_time = message.time\n",
    "            marker_titles = message.text.split(\",\")\n",
    "            \n",
    "            for marker_title in marker_titles:\n",
    "            \n",
    "                if marker_time in techniques:\n",
    "                    techniques[marker_time].append(marker_title)\n",
    "                else:\n",
    "                    techniques[marker_time] = [marker_title]\n",
    "                \n",
    "                if marker_title not in midi_df.columns:\n",
    "                    if midi_df.shape[0]:\n",
    "                        midi_df[marker_title] = 0\n",
    "                    else:\n",
    "                        midi_df[marker_title] = empty_series\n",
    "        \n",
    "        elif message.type == 'pitchwheel':\n",
    "            if (message.pitch):\n",
    "                quarter_tone = not quarter_tone\n",
    "        \n",
    "        elif message.type == 'note_on' and message.velocity > 0:\n",
    "            # Store the start time and velocity of the note\n",
    "            note_start_times[message.note] = total_time\n",
    "            note_velocities[message.note] = message.velocity\n",
    "            \n",
    "        elif message.type == 'note_off':\n",
    "            # Calculate the duration using the stored start time\n",
    "            start_time = note_start_times.get(message.note, 0)\n",
    "            duration = total_time - start_time\n",
    "            velocity = note_velocities.get(message.note, 0)\n",
    "            \n",
    "            # If there is rest before note\n",
    "            if (start_time - last_note_end_time > 0):\n",
    "                rest_start_time = last_note_end_time\n",
    "                rest_total_duration = start_time - last_note_end_time\n",
    "                \n",
    "                rest_starts_bar = rest_start_time // bar_duration\n",
    "                rest_ends_bar = (start_time - 1) // bar_duration    \n",
    "                \n",
    "                if(rest_starts_bar != rest_ends_bar):\n",
    "                    rest_row_temp = {key: 0 for key in midi_df.columns}\n",
    "                    for i in range(rest_ends_bar - rest_starts_bar):\n",
    "                        bar_ends = (rest_starts_bar + 1 + i) * bar_duration\n",
    "                        rest_row_temp = {key: 0 for key in midi_df.columns}\n",
    "                        rest_row_temp['note'] = 0\n",
    "                        rest_row_temp['note_start_time'] = rest_start_time\n",
    "                        rest_row_temp['duration'] = bar_ends - rest_start_time\n",
    "                        \n",
    "                        rest_markers = []\n",
    "                        if ( techniques.get(rest_start_time) ):\n",
    "                            rest_markers = techniques.get(rest_start_time)\n",
    "                        \n",
    "                        if(rest_markers and len(rest_markers)):\n",
    "                            for rest_marker in rest_markers:\n",
    "                                rest_row_temp[rest_marker] = 1\n",
    "                        \n",
    "                        midi_df = pd.concat([midi_df, pd.DataFrame(rest_row_temp, index=[0])], ignore_index=True)\n",
    "                        \n",
    "                        rest_start_time = bar_ends\n",
    "                        last_note_end_time = bar_ends\n",
    "                        \n",
    "                    if(start_time - rest_start_time):\n",
    "                        last_rest_duration = start_time - rest_start_time                    \n",
    "                        \n",
    "                        rest_row_temp = {key: 0 for key in midi_df.columns}\n",
    "                        rest_row_temp['note'] = 0\n",
    "                        rest_row_temp['note_start_time'] = rest_start_time\n",
    "                        rest_row_temp['duration'] = last_rest_duration\n",
    "                        midi_df = pd.concat([midi_df, pd.DataFrame(rest_row_temp, index=[0])], ignore_index=True)\n",
    "                        last_note_end_time = bar_ends\n",
    "                else: \n",
    "                    rest_row_temp = {key: 0 for key in midi_df.columns}\n",
    "                    rest_row_temp['note'] = 0\n",
    "                    rest_row_temp['note_start_time'] = rest_start_time\n",
    "                    rest_row_temp['duration'] = rest_total_duration\n",
    "                    \n",
    "                    rest_markers = []\n",
    "                    if ( techniques.get(rest_start_time) ):\n",
    "                        rest_markers = techniques.get(rest_start_time)\n",
    "                    \n",
    "                    if(rest_markers and len(rest_markers)):\n",
    "                        for rest_marker in rest_markers:\n",
    "                            rest_row_temp[rest_marker] = 1\n",
    "                        \n",
    "                    midi_df = pd.concat([midi_df, pd.DataFrame(rest_row_temp, index=[0])], ignore_index=True)\n",
    "                    last_note_end_time = bar_ends\n",
    "                    # print(f'Rest, Start Time: {last_note_end_time}, Duration: {start_time - last_note_end_time}')\n",
    "            \n",
    "            row_temp = {key: 0 for key in midi_df.columns}\n",
    "            \n",
    "            if quarter_tone:\n",
    "                row_temp['note'] = message.note - 0.5\n",
    "                quarter_tone = not quarter_tone\n",
    "            else:\n",
    "                row_temp['note'] = message.note\n",
    "            \n",
    "            row_temp['note_start_time'] = start_time\n",
    "            row_temp['duration'] = duration\n",
    "            row_temp['Velocity'] = velocity\n",
    "            \n",
    "            markers = []\n",
    "            if ( techniques.get(start_time) ):\n",
    "                markers = techniques.get(start_time)\n",
    "            \n",
    "            if(markers and len(markers)):\n",
    "                for marker in markers:\n",
    "                    row_temp[marker] = 1\n",
    "            # print(f'Note: {message.note}, Start_Time: {start_time}, Duration: {duration}, Velocity: {velocity}')\n",
    "            \n",
    "            # Convert the dictionary to a DataFrame and append it to the original DataFrame\n",
    "            midi_df = pd.concat([midi_df, pd.DataFrame(row_temp, index=[0])], ignore_index=True)\n",
    "            \n",
    "            last_note_end_time = start_time + duration\n",
    "        elif (message.type == \"time_signature\"):\n",
    "            bar_duration = message.numerator * message.denominator * message.clocks_per_click\n",
    "            \n",
    "# Connect to the workbook\n",
    "wb = xw.Book('test.xlsx')\n",
    "\n",
    "# Select the worksheet\n",
    "ws = wb.sheets['Sheet1']\n",
    "\n",
    "# Delete the existing table (if it exists)\n",
    "if ws.tables:\n",
    "    ws.range(ws.tables[0].range.address).api.Delete()\n",
    "\n",
    "# Add a new table to the worksheet\n",
    "table = ws.tables.add(source=ws.range('A1'), name='MyTable')\n",
    "\n",
    "# Update the table with the new data\n",
    "table.update(midi_df)\n",
    "\n",
    "# Show the updated range of cells in a new window\n",
    "table.range.api.Select()"
   ]
  },
  {
   "cell_type": "code",
   "execution_count": 118,
   "metadata": {},
   "outputs": [],
   "source": [
    "# midi_df"
   ]
  },
  {
   "cell_type": "code",
   "execution_count": 119,
   "metadata": {},
   "outputs": [],
   "source": [
    "# midi_df.to_excel(\"test.xlsx\")"
   ]
  },
  {
   "cell_type": "code",
   "execution_count": 120,
   "metadata": {},
   "outputs": [
    {
     "data": {
      "text/plain": [
       "16"
      ]
     },
     "execution_count": 120,
     "metadata": {},
     "output_type": "execute_result"
    }
   ],
   "source": [
    "400 % 384"
   ]
  },
  {
   "cell_type": "code",
   "execution_count": 121,
   "metadata": {},
   "outputs": [
    {
     "data": {
      "text/plain": [
       "1"
      ]
     },
     "execution_count": 121,
     "metadata": {},
     "output_type": "execute_result"
    }
   ],
   "source": [
    "700 // 384"
   ]
  },
  {
   "cell_type": "code",
   "execution_count": null,
   "metadata": {},
   "outputs": [],
   "source": []
  }
 ],
 "metadata": {
  "kernelspec": {
   "display_name": "Python 3",
   "language": "python",
   "name": "python3"
  },
  "language_info": {
   "codemirror_mode": {
    "name": "ipython",
    "version": 3
   },
   "file_extension": ".py",
   "mimetype": "text/x-python",
   "name": "python",
   "nbconvert_exporter": "python",
   "pygments_lexer": "ipython3",
   "version": "3.12.1"
  }
 },
 "nbformat": 4,
 "nbformat_minor": 2
}
