{
 "cells": [
  {
   "cell_type": "markdown",
   "metadata": {},
   "source": [
    "## **MIDI Factory**"
   ]
  },
  {
   "cell_type": "markdown",
   "metadata": {},
   "source": [
    "#### Import Libraries"
   ]
  },
  {
   "cell_type": "code",
   "execution_count": 1,
   "metadata": {},
   "outputs": [],
   "source": [
    "import os\n",
    "\n",
    "import xlwings as xw\n",
    "from midiArabia import MidiArabia"
   ]
  },
  {
   "cell_type": "markdown",
   "metadata": {},
   "source": [
    "### Constant "
   ]
  },
  {
   "cell_type": "code",
   "execution_count": null,
   "metadata": {},
   "outputs": [],
   "source": [
    "path_midi = \"./midi/test.mid\""
   ]
  },
  {
   "cell_type": "code",
   "execution_count": null,
   "metadata": {},
   "outputs": [],
   "source": [
    "song = MidiArabia(path_midi= path_midi,detect_rhythms=False)\n",
    "dataFrame = song.midi_to_dataFrame()"
   ]
  },
  {
   "cell_type": "markdown",
   "metadata": {},
   "source": [
    "### Access Excel sheet"
   ]
  },
  {
   "cell_type": "code",
   "execution_count": null,
   "metadata": {},
   "outputs": [],
   "source": [
    "file_name = \"test.xlsx\"\n",
    "sheet_name = \"sheet1\"\n",
    "\n",
    "sheet_exist = False\n",
    "# Check if the file exists\n",
    "if not os.path.exists(file_name):\n",
    "    # Create an empty file\n",
    "    wb = xw.Book()\n",
    "    wb.save(file_name)\n",
    "    wb.close()\n",
    "    print(f\"{file_name} was successfully created.\")\n",
    "\n",
    "## open excel file \n",
    "workbook = xw.Book(file_name)\n",
    "\n",
    "for sheet in workbook.sheets:\n",
    "    sheet_exist = sheet_name == sheet.name\n",
    "    if(sheet_exist) : break\n",
    "\n",
    "# Check if 'Sheet1' exists\n",
    "if not sheet_exist:\n",
    "    workbook.sheets.add(sheet_name)\n",
    "    print(f\"{sheet_name} sheet was successfully created.\")"
   ]
  },
  {
   "cell_type": "markdown",
   "metadata": {},
   "source": [
    "### Update Excel File"
   ]
  },
  {
   "cell_type": "code",
   "execution_count": null,
   "metadata": {},
   "outputs": [
    {
     "data": {
      "text/plain": [
       "True"
      ]
     },
     "execution_count": 120,
     "metadata": {},
     "output_type": "execute_result"
    }
   ],
   "source": [
    "# Select the worksheet\n",
    "worksheet = workbook.sheets[sheet_name]\n",
    "\n",
    "# Delete the existing table (if it exists)\n",
    "if worksheet.tables:\n",
    "    worksheet.range(worksheet.tables[0].range.address).api.Delete()\n",
    "\n",
    "# Add a new table to the worksheet\n",
    "table = worksheet.tables.add(source=worksheet.range('A1'), name='MyTable')\n",
    "\n",
    "# Update the table with the new data\n",
    "table.update(dataFrame)\n",
    "\n",
    "# Show the updated range of cells in a new window\n",
    "table.range.api.Select()\n",
    "\n",
    "# workbook.close()\n"
   ]
  },
  {
   "cell_type": "code",
   "execution_count": null,
   "metadata": {},
   "outputs": [],
   "source": []
  }
 ],
 "metadata": {
  "kernelspec": {
   "display_name": "Python 3",
   "language": "python",
   "name": "python3"
  },
  "language_info": {
   "codemirror_mode": {
    "name": "ipython",
    "version": 3
   },
   "file_extension": ".py",
   "mimetype": "text/x-python",
   "name": "python",
   "nbconvert_exporter": "python",
   "pygments_lexer": "ipython3",
   "version": "3.12.1"
  }
 },
 "nbformat": 4,
 "nbformat_minor": 2
}
