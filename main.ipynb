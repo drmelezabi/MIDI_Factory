{
 "cells": [
  {
   "cell_type": "markdown",
   "metadata": {},
   "source": [
    "## **MIDI Factory**"
   ]
  },
  {
   "cell_type": "markdown",
   "metadata": {},
   "source": [
    "#### Import Libraries"
   ]
  },
  {
   "cell_type": "code",
   "execution_count": 507,
   "metadata": {},
   "outputs": [],
   "source": [
    "import pandas as pd\n",
    "import xlwings as xw\n",
    "import math\n",
    "\n",
    "from miditoolkit.midi import parser as mid_parser  \n",
    "from miditoolkit.midi import containers as ct"
   ]
  },
  {
   "cell_type": "markdown",
   "metadata": {},
   "source": [
    "### load midi file"
   ]
  },
  {
   "cell_type": "code",
   "execution_count": 508,
   "metadata": {},
   "outputs": [],
   "source": [
    "path_midi = 'test.mid'\n",
    "midi_obj = mid_parser.MidiFile(path_midi)"
   ]
  },
  {
   "cell_type": "markdown",
   "metadata": {},
   "source": [
    "### Constant"
   ]
  },
  {
   "cell_type": "code",
   "execution_count": 509,
   "metadata": {},
   "outputs": [
    {
     "name": "stdout",
     "output_type": "stream",
     "text": [
      "✥ ticks per beat: 96\n",
      "✥ bar duration: 384\n",
      "✥ tempo: 200 BPM\n"
     ]
    }
   ],
   "source": [
    "ticks_per_beat = round(midi_obj.ticks_per_beat / 10)\n",
    "time_signature = midi_obj.time_signature_changes[0]\n",
    "numerator =  time_signature.numerator\n",
    "_denominator =  time_signature.denominator\n",
    "tempo = round(midi_obj.tempo_changes[0].tempo)\n",
    "restNote = None\n",
    "\n",
    "rhythms = {\n",
    "    round(ticks_per_beat * 4): \"w\", \n",
    "    round(ticks_per_beat * 3): \"hd\",\n",
    "    round(ticks_per_beat * 4 / 3): \"ht\",\n",
    "    round(ticks_per_beat * 2): \"h\",\n",
    "    round(ticks_per_beat * 1.5): \"qd\",\n",
    "    round(ticks_per_beat * 2 / 3): \"qt\",\n",
    "    round(ticks_per_beat * 1 + ticks_per_beat * 0.25): \"q^s\",\n",
    "    ticks_per_beat: \"q\",\n",
    "    round(ticks_per_beat * 1 / 3):\"et\", \n",
    "    round(ticks_per_beat * 3 / 4): \"ed\",\n",
    "    round(ticks_per_beat / 2): \"e\",\n",
    "    round(ticks_per_beat / 4 ): \"s\",\n",
    "    round(ticks_per_beat / 6): \"st\"\n",
    "}\n",
    "\n",
    "theme_start = \"theme_start\"\n",
    "phrase_start = \"phrase_start\"\n",
    "\n",
    "bar_duration = numerator * ticks_per_beat\n",
    "\n",
    "print('✥ ticks per beat:', ticks_per_beat)\n",
    "print('✥ bar duration:', bar_duration)\n",
    "print('✥ tempo:', tempo, \"BPM\")"
   ]
  },
  {
   "cell_type": "markdown",
   "metadata": {},
   "source": [
    "### Define RHYTHMS"
   ]
  },
  {
   "cell_type": "code",
   "execution_count": 510,
   "metadata": {},
   "outputs": [],
   "source": [
    "def rhythms_define(duration: int):\n",
    "    return duration\n",
    "    for i in range(-2, 3):\n",
    "        rhythm = rhythms.get(duration + i)\n",
    "        if rhythm:\n",
    "            return rhythm"
   ]
  },
  {
   "cell_type": "markdown",
   "metadata": {},
   "source": [
    "### Get Markers"
   ]
  },
  {
   "cell_type": "code",
   "execution_count": 511,
   "metadata": {},
   "outputs": [
    {
     "name": "stdout",
     "output_type": "stream",
     "text": [
      "Markers dictionary :-\n",
      "  ✥ 384 : ['theme_start', 'trill']\n",
      "  ✥ 1152 : ['phrase_start']\n",
      "  ✥ 2208 : ['Gliss']\n",
      "  ✥ 3840 : ['theme_start']\n",
      "  ✥ 6816 : ['Portato']\n",
      "  ✥ 10752 : ['theme_start']\n",
      "  ✥ 12288 : ['Vibrato']\n"
     ]
    }
   ],
   "source": [
    "markers = {}\n",
    "markers_set = set()\n",
    "\n",
    "print('Markers dictionary :-')\n",
    "for marker in midi_obj.markers:\n",
    "    marker_titles = marker.text.split(',')\n",
    "    markers[round(marker.time / 10)] = marker_titles\n",
    "    for m in marker_titles:\n",
    "        markers_set.add(m)\n",
    "    print(f'  ✥ {round(marker.time / 10)} : {marker_titles}')"
   ]
  },
  {
   "cell_type": "markdown",
   "metadata": {},
   "source": [
    "### Get Pitch bend"
   ]
  },
  {
   "cell_type": "code",
   "execution_count": 512,
   "metadata": {},
   "outputs": [
    {
     "name": "stdout",
     "output_type": "stream",
     "text": [
      "Pitch bend :-\n",
      "  ✥ 1200 : -341\n"
     ]
    }
   ],
   "source": [
    "pitch_bends_raw = midi_obj.instruments[0].pitch_bends\n",
    "\n",
    "pitch_bends_filtered = list(filter(lambda item: item.pitch != 0, pitch_bends_raw))\n",
    "\n",
    "pitch_bends = {}\n",
    "\n",
    "print('Pitch bend :-')\n",
    "for pitch_bend in pitch_bends_filtered:\n",
    "    pitch_bends[round(pitch_bend.time / 10)] = pitch_bend.pitch\n",
    "    print(f'  ✥ {round(pitch_bend.time / 10)} : {pitch_bend.pitch}')"
   ]
  },
  {
   "cell_type": "markdown",
   "metadata": {},
   "source": [
    "#### Create empty Series"
   ]
  },
  {
   "cell_type": "code",
   "execution_count": 513,
   "metadata": {},
   "outputs": [],
   "source": [
    "empty_series = pd.Series()"
   ]
  },
  {
   "cell_type": "markdown",
   "metadata": {},
   "source": [
    "### Create DataFrame with empty Series"
   ]
  },
  {
   "cell_type": "code",
   "execution_count": 514,
   "metadata": {},
   "outputs": [],
   "source": [
    "midi_df = pd.DataFrame({\n",
    "    'note': empty_series,\n",
    "    'interval': empty_series,\n",
    "    'note_start_time': empty_series,\n",
    "    'duration': empty_series,\n",
    "    'slur': empty_series,\n",
    "    'Velocity': empty_series,\n",
    "})\n",
    "\n",
    "for column in markers_set:\n",
    "    midi_df[column] = empty_series"
   ]
  },
  {
   "cell_type": "markdown",
   "metadata": {},
   "source": [
    "### Load your MIDI file"
   ]
  },
  {
   "cell_type": "code",
   "execution_count": 515,
   "metadata": {},
   "outputs": [],
   "source": [
    "# Initialize a dictionary to store note start times and velocities\n",
    "note_start_times = {}\n",
    "note_velocities = {}\n",
    "techniques = {}\n",
    "interval_for_new_melody_begin = None\n",
    "new_melody_beginning_marker = \"theme_start\"\n",
    "new_phrase_beginning_marker = \"phrase_start\"\n",
    "\n",
    "last_note_end_time = 0\n",
    "quarter_tone = False\n",
    "last_note = None\n",
    "\n",
    "notes = midi_obj.instruments[0].notes\n",
    "\n",
    "for note in notes:\n",
    "    pitch = note.pitch\n",
    "    start_time = round(note.start / 10)\n",
    "    end_time = round(note.end / 10)\n",
    "    pitch_bend = pitch_bends.get(start_time)\n",
    "    quarter_tone = pitch_bend / 341 * 0.5 if(pitch_bend) else 0\n",
    "    rest_exist = start_time - last_note_end_time > 0\n",
    "    \n",
    "    # handle rest if exist\n",
    "    if (rest_exist):\n",
    "        rest_start_time = last_note_end_time\n",
    "        next_note_start_time = start_time\n",
    "        \n",
    "        rest_starts_bar = math.ceil((rest_start_time + 1) / bar_duration)\n",
    "        rest_ends_bar = math.ceil((next_note_start_time - 1) / bar_duration)\n",
    "\n",
    "        existed_rest_bars = rest_ends_bar - rest_starts_bar\n",
    "        \n",
    "        for i in range(existed_rest_bars):\n",
    "            bar_ends = (rest_starts_bar + i) * bar_duration\n",
    "            rest_row_temp = {key: 0 for key in midi_df.columns}\n",
    "            rest_row_temp['note'] = restNote\n",
    "            rest_row_temp['note_start_time'] = rest_start_time\n",
    "            rest_row_temp['duration'] = rhythms_define(bar_ends - rest_start_time)\n",
    "            rest_row_temp['Velocity'] = None\n",
    "                    \n",
    "            markers_list = markers.get(rest_start_time)\n",
    "            if(markers_list):\n",
    "                for m_key in markers_list:\n",
    "                    rest_row_temp[m_key] = 1\n",
    "            \n",
    "            # Add a new rest event to the DataFrame  \n",
    "            midi_df.loc[len(midi_df)] = rest_row_temp\n",
    "            \n",
    "            # update new rest start point\n",
    "            rest_start_time = bar_ends\n",
    "            \n",
    "        # existed_rest_less_than_bar \n",
    "        if(next_note_start_time - rest_start_time):\n",
    "            rest_row_temp = {key: 0 for key in midi_df.columns}\n",
    "            rest_row_temp['note'] = restNote\n",
    "            rest_row_temp['note_start_time'] = rest_start_time\n",
    "            rest_row_temp['duration'] = rhythms_define(start_time - rest_start_time)\n",
    "            rest_row_temp['Velocity'] = None\n",
    "            \n",
    "            markers_list = markers.get(rest_start_time)\n",
    "            if(markers_list):\n",
    "                for m_key in markers_list:\n",
    "                    rest_row_temp[m_key] = 1\n",
    "\n",
    "            # Add a new rest event to the DataFrame  \n",
    "            midi_df.loc[len(midi_df)] = rest_row_temp\n",
    "    \n",
    "    note_starts_bar = math.ceil((start_time + 1) / bar_duration)\n",
    "    note_ends_bar = math.ceil((end_time - 1) / bar_duration)\n",
    "    nested_slur_note = False\n",
    "\n",
    "    existed_slur_note = note_ends_bar - note_starts_bar\n",
    "    if(existed_slur_note):\n",
    "        for i in range(existed_slur_note):\n",
    "            bar_ends = (note_starts_bar + i) * bar_duration\n",
    "            slur_note_row_temp = {key: 0 for key in midi_df.columns}\n",
    "            slur_note_row_temp['note'] = pitch + quarter_tone\n",
    "            slur_note_row_temp['note_start_time'] = start_time\n",
    "            slur_note_row_temp['duration'] = rhythms_define(bar_ends - start_time)\n",
    "            slur_note_row_temp['Velocity'] = note.velocity\n",
    "            \n",
    "            if(nested_slur_note):\n",
    "                slur_note_row_temp['slur'] = 1\n",
    "            else:\n",
    "                nested_slur_note = not nested_slur_note\n",
    "            \n",
    "            markers_list = markers.get(start_time)\n",
    "            if(markers_list):\n",
    "                for m_key in markers_list:\n",
    "                    slur_note_row_temp[m_key] = 1\n",
    "            \n",
    "            # handle intervals\n",
    "            if(slur_note_row_temp.get(theme_start) == 0 and slur_note_row_temp.get(phrase_start) == 0):\n",
    "                last_note_int = last_note or 0\n",
    "                current_note = slur_note_row_temp['note'] or 0\n",
    "                interval = current_note - last_note_int\n",
    "                slur_note_row_temp['interval'] =  interval if(start_time - last_note_end_time < bar_duration) else None\n",
    "            else:\n",
    "                slur_note_row_temp['interval'] = None\n",
    "            \n",
    "            # Add a new rest event to the DataFrame  \n",
    "            midi_df.loc[len(midi_df)] = slur_note_row_temp\n",
    "            \n",
    "            # update new rest start point\n",
    "            last_note_end_time = bar_ends\n",
    "            start_time = bar_ends\n",
    "            last_note = slur_note_row_temp['note']\n",
    "            \n",
    "        last_slur_note_row_temp = {key: 0 for key in midi_df.columns}\n",
    "        last_slur_note_row_temp['note'] = pitch + quarter_tone\n",
    "        last_slur_note_row_temp['note_start_time'] = start_time\n",
    "        last_slur_note_row_temp['duration'] = rhythms_define(end_time - start_time)\n",
    "        last_slur_note_row_temp['Velocity'] = note.velocity\n",
    "        last_slur_note_row_temp['slur'] = 1\n",
    "                \n",
    "        markers_list = markers.get(start_time)\n",
    "        if(markers_list):\n",
    "            for m_key in markers_list:\n",
    "                last_slur_note_row_temp[m_key] = 1\n",
    "        \n",
    "        # handle intervals\n",
    "        if(last_slur_note_row_temp.get(theme_start) == 0 and last_slur_note_row_temp.get(phrase_start) == 0):\n",
    "            last_note_int = last_note or 0\n",
    "            current_note = last_slur_note_row_temp['note'] or 0\n",
    "            interval = current_note - last_note_int\n",
    "            last_slur_note_row_temp['interval'] =  interval if(start_time - last_note_end_time < bar_duration) else None\n",
    "        else:\n",
    "            last_slur_note_row_temp['interval'] = None\n",
    "        \n",
    "        # Add a new rest event to the DataFrame  \n",
    "        midi_df.loc[len(midi_df)] = last_slur_note_row_temp\n",
    "        \n",
    "        # update new rest start point\n",
    "        last_note_end_time = end_time\n",
    "        last_note = last_slur_note_row_temp['note']\n",
    "    else:\n",
    "        # handel Note\n",
    "        note_row_temp = {key: 0 for key in midi_df.columns}\n",
    "        note_row_temp['note'] = pitch + quarter_tone\n",
    "        note_row_temp['note_start_time'] = start_time\n",
    "        note_row_temp['duration'] = rhythms_define(end_time - start_time)\n",
    "        note_row_temp['Velocity'] = note.velocity\n",
    "        \n",
    "        \n",
    "        markers_list = markers.get(start_time)\n",
    "        if(markers_list):\n",
    "            for m_key in markers_list:\n",
    "                note_row_temp[m_key] = 1\n",
    "        \n",
    "        \n",
    "        # handle intervals\n",
    "        if(note_row_temp.get(theme_start) == 0 and note_row_temp.get(phrase_start) == 0):\n",
    "            last_note_int = last_note or 0\n",
    "            current_note = note_row_temp['note'] or 0\n",
    "            interval = current_note - last_note_int\n",
    "            note_row_temp['interval'] =  interval if(start_time - last_note_end_time < bar_duration) else None\n",
    "        else:\n",
    "            note_row_temp['interval'] = None\n",
    "        \n",
    "        \n",
    "        # Add a new rest event to the DataFrame\n",
    "        midi_df.loc[len(midi_df)] = note_row_temp\n",
    "        \n",
    "        \n",
    "        last_note_end_time = end_time\n",
    "        last_note = note_row_temp['note']"
   ]
  },
  {
   "cell_type": "markdown",
   "metadata": {},
   "source": [
    "### Update Excel File"
   ]
  },
  {
   "cell_type": "code",
   "execution_count": 516,
   "metadata": {},
   "outputs": [
    {
     "data": {
      "text/plain": [
       "True"
      ]
     },
     "execution_count": 516,
     "metadata": {},
     "output_type": "execute_result"
    }
   ],
   "source": [
    "# Connect to the workbook\n",
    "workbook = xw.Book('test.xlsx')\n",
    "\n",
    "# Select the worksheet\n",
    "worksheet = workbook.sheets['Sheet1']\n",
    "\n",
    "# Delete the existing table (if it exists)\n",
    "if worksheet.tables:\n",
    "    worksheet.range(worksheet.tables[0].range.address).api.Delete()\n",
    "\n",
    "# Add a new table to the worksheet\n",
    "table = worksheet.tables.add(source=worksheet.range('A1'), name='MyTable')\n",
    "\n",
    "# Update the table with the new data\n",
    "table.update(midi_df)\n",
    "\n",
    "# Show the updated range of cells in a new window\n",
    "table.range.api.Select()"
   ]
  }
 ],
 "metadata": {
  "kernelspec": {
   "display_name": "Python 3",
   "language": "python",
   "name": "python3"
  },
  "language_info": {
   "codemirror_mode": {
    "name": "ipython",
    "version": 3
   },
   "file_extension": ".py",
   "mimetype": "text/x-python",
   "name": "python",
   "nbconvert_exporter": "python",
   "pygments_lexer": "ipython3",
   "version": "3.12.1"
  }
 },
 "nbformat": 4,
 "nbformat_minor": 2
}
