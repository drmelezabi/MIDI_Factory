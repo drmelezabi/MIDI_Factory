{
 "cells": [
  {
   "cell_type": "markdown",
   "metadata": {},
   "source": [
    "## **MIDI Factory**"
   ]
  },
  {
   "cell_type": "markdown",
   "metadata": {},
   "source": [
    "#### Import Libraries"
   ]
  },
  {
   "cell_type": "code",
   "execution_count": 1,
   "metadata": {},
   "outputs": [],
   "source": [
    "import xlwings as xw\n",
    "from midiArabia import MidiArabia"
   ]
  },
  {
   "cell_type": "markdown",
   "metadata": {},
   "source": [
    "### Constant "
   ]
  },
  {
   "cell_type": "code",
   "execution_count": 2,
   "metadata": {},
   "outputs": [],
   "source": [
    "path_midi = \"./midi/raw.mid\""
   ]
  },
  {
   "cell_type": "code",
   "execution_count": 3,
   "metadata": {},
   "outputs": [],
   "source": [
    "song = MidiArabia(path_midi= path_midi,detect_rhythms=False)\n",
    "dataFrame = song.midi_to_dataFrame()"
   ]
  },
  {
   "cell_type": "markdown",
   "metadata": {},
   "source": [
    "### Update Excel File"
   ]
  },
  {
   "cell_type": "code",
   "execution_count": 4,
   "metadata": {},
   "outputs": [
    {
     "data": {
      "text/plain": [
       "True"
      ]
     },
     "execution_count": 4,
     "metadata": {},
     "output_type": "execute_result"
    }
   ],
   "source": [
    "# Connect to the workbook\n",
    "workbook = xw.Book('test.xlsx')\n",
    "\n",
    "# Select the worksheet\n",
    "worksheet = workbook.sheets[\"sheet1\"]\n",
    "\n",
    "# Delete the existing table (if it exists)\n",
    "if worksheet.tables:\n",
    "    worksheet.range(worksheet.tables[0].range.address).api.Delete()\n",
    "\n",
    "# Add a new table to the worksheet\n",
    "table = worksheet.tables.add(source=worksheet.range('A1'), name='MyTable')\n",
    "\n",
    "# Update the table with the new data\n",
    "table.update(dataFrame)\n",
    "\n",
    "# Show the updated range of cells in a new window\n",
    "table.range.api.Select()"
   ]
  }
 ],
 "metadata": {
  "kernelspec": {
   "display_name": "Python 3",
   "language": "python",
   "name": "python3"
  },
  "language_info": {
   "codemirror_mode": {
    "name": "ipython",
    "version": 3
   },
   "file_extension": ".py",
   "mimetype": "text/x-python",
   "name": "python",
   "nbconvert_exporter": "python",
   "pygments_lexer": "ipython3",
   "version": "3.12.1"
  }
 },
 "nbformat": 4,
 "nbformat_minor": 2
}
